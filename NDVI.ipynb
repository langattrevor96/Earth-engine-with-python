{
 "cells": [
  {
   "cell_type": "code",
   "execution_count": 31,
   "id": "9c630c17",
   "metadata": {},
   "outputs": [],
   "source": [
    "import ee"
   ]
  },
  {
   "cell_type": "code",
   "execution_count": 32,
   "id": "059a11d7",
   "metadata": {},
   "outputs": [],
   "source": [
    "import geemap"
   ]
  },
  {
   "cell_type": "code",
   "execution_count": 33,
   "id": "433f05e5",
   "metadata": {},
   "outputs": [
    {
     "data": {
      "application/vnd.jupyter.widget-view+json": {
       "model_id": "ec012452b8ee466b85b838d5bcd1c158",
       "version_major": 2,
       "version_minor": 0
      },
      "text/plain": [
       "Map(center=[20, 0], controls=(WidgetControl(options=['position', 'transparent_bg'], widget=HBox(children=(Togg…"
      ]
     },
     "metadata": {},
     "output_type": "display_data"
    }
   ],
   "source": [
    "Map=geemap.Map()\n",
    "Map\n"
   ]
  },
  {
   "cell_type": "code",
   "execution_count": 55,
   "id": "a03f3b2c",
   "metadata": {},
   "outputs": [],
   "source": [
    "#set centre function\n",
    "Map.setCenter(35.74,0.22,9);"
   ]
  },
  {
   "cell_type": "code",
   "execution_count": 56,
   "id": "0507bca2",
   "metadata": {},
   "outputs": [],
   "source": [
    "#Location point\n",
    "point=ee.Geometry.Point(35.74,0.22);\n"
   ]
  },
  {
   "cell_type": "code",
   "execution_count": 51,
   "id": "c82f6ee1",
   "metadata": {},
   "outputs": [],
   "source": [
    "data=ee.ImageCollection(\"COPERNICUS/S2_HARMONIZED\").filterBounds(point);"
   ]
  },
  {
   "cell_type": "code",
   "execution_count": 45,
   "id": "5b315da6",
   "metadata": {},
   "outputs": [],
   "source": [
    "image=ee.Image(data.filterDate(\"2021-01-01\",\"2021-12-31\").sort(\"CLOUD_COVERAGE_ASSESSMENT\").first());"
   ]
  },
  {
   "cell_type": "code",
   "execution_count": 46,
   "id": "eda57c3c",
   "metadata": {},
   "outputs": [],
   "source": [
    "ndvi=image.expression(\n",
    "\"(NIR - RED) / (NIR + RED)\", \n",
    "{\"NIR\":image.select(\"B8\"),\n",
    "\"RED\":image.select(\"B4\")});"
   ]
  },
  {
   "cell_type": "code",
   "execution_count": 47,
   "id": "50c7a810",
   "metadata": {},
   "outputs": [],
   "source": [
    "display={\n",
    "    \"min\":0,\n",
    "    \"max\":1,\n",
    "    \"palette\":['blue', 'yellow', 'darkgreen', 'black']\n",
    "}"
   ]
  },
  {
   "cell_type": "code",
   "execution_count": 48,
   "id": "ef67fe20",
   "metadata": {
    "scrolled": true
   },
   "outputs": [
    {
     "data": {
      "application/vnd.jupyter.widget-view+json": {
       "model_id": "ec012452b8ee466b85b838d5bcd1c158",
       "version_major": 2,
       "version_minor": 0
      },
      "text/plain": [
       "Map(bottom=65756.0, center=[0.22, 35.16], controls=(WidgetControl(options=['position', 'transparent_bg'], widg…"
      ]
     },
     "metadata": {},
     "output_type": "display_data"
    }
   ],
   "source": [
    "Map.addLayer(ndvi,display);\n",
    "Map"
   ]
  },
  {
   "cell_type": "code",
   "execution_count": null,
   "id": "8d4be6f3",
   "metadata": {},
   "outputs": [],
   "source": []
  }
 ],
 "metadata": {
  "kernelspec": {
   "display_name": "lanenv",
   "language": "python",
   "name": "myenv"
  },
  "language_info": {
   "codemirror_mode": {
    "name": "ipython",
    "version": 3
   },
   "file_extension": ".py",
   "mimetype": "text/x-python",
   "name": "python",
   "nbconvert_exporter": "python",
   "pygments_lexer": "ipython3",
   "version": "3.9.12"
  }
 },
 "nbformat": 4,
 "nbformat_minor": 5
}
